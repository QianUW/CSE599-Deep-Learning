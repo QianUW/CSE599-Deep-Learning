{
  "nbformat": 4,
  "nbformat_minor": 0,
  "metadata": {
    "colab": {
      "name": "homework1_colab.ipynb",
      "provenance": [],
      "collapsed_sections": []
    },
    "kernelspec": {
      "name": "python3",
      "display_name": "Python 3"
    },
    "accelerator": "GPU"
  },
  "cells": [
    {
      "cell_type": "markdown",
      "metadata": {
        "id": "6QA1D6eIszX_",
        "colab_type": "text"
      },
      "source": [
        "# Homework 1. Making Your First Neural Network: Part 6.\n",
        "# Important notes:\n",
        "1. Do not change the name of the network or change the network constructor to take arguments. This will break the autograder.\n",
        "2. Only changes to areas of the code marked \"**modify me**\" will be graded. You may not change function signatures or return values from these functions or you will fail the tests.\n",
        "# Part 0: Initial setup\n",
        "\n",
        "To enable GPU:\n",
        "1.   Click Edit -> Notebook settings\n",
        "2.   Under Runtime type select Python 3\n",
        "3.   Under Hardware Accelerator select GPU\n",
        "4.   On the right side of this page, click connect to a hosted runtime\n",
        "\n",
        "\n",
        "If you ever see an error about needing third-party cookies enabled, you can disable blocking them or whitelist them.\n",
        "Here is a simple way to whitelist (in Chrome)\n",
        "\n",
        "For Chrome:\n",
        "1.   Go to settings and search \"content settings\"\n",
        "2.   Click the \"content settings\" button\n",
        "3.   Click \"Cookies\"\n",
        "4.   Uncheck \"Block third-party cookies\" or\n",
        "5.   Click Add next to Allow and type https://[*.]googleusercontent.com:443"
      ]
    },
    {
      "cell_type": "code",
      "metadata": {
        "id": "DHxEgxT6YwR8",
        "colab_type": "code",
        "colab": {
          "base_uri": "https://localhost:8080/",
          "height": 434
        },
        "outputId": "c96d287b-f46c-4853-d188-97779a323194"
      },
      "source": [
        "# This shows how to connect your google drive account with a colab instance. It's pretty easy.\n",
        "# Load the Drive helper and mount\n",
        "from google.colab import drive\n",
        "\n",
        "# This will prompt for authorization.\n",
        "drive.mount('/gdrive')\n",
        "# Create a directory and mount Google Drive using that directory.\n",
        "\n",
        "# Now let's test that Google Drive is up and running. \n",
        "# You may have to change \"My Drive\" if you have renamed it something else.\n",
        "!ls \"/gdrive/My Drive\"\n",
        "\n",
        "!echo \"Hello Google Drive\" > \"/gdrive/My Drive/foo.txt\"\n",
        "!cat \"/gdrive/My Drive/foo.txt\"\n",
        "!rm \"/gdrive/My Drive/foo.txt\""
      ],
      "execution_count": 2,
      "outputs": [
        {
          "output_type": "stream",
          "text": [
            "Go to this URL in a browser: https://accounts.google.com/o/oauth2/auth?client_id=947318989803-6bn6qk8qdgf4n4g3pfee6491hc0brc4i.apps.googleusercontent.com&redirect_uri=urn%3Aietf%3Awg%3Aoauth%3A2.0%3Aoob&scope=email%20https%3A%2F%2Fwww.googleapis.com%2Fauth%2Fdocs.test%20https%3A%2F%2Fwww.googleapis.com%2Fauth%2Fdrive%20https%3A%2F%2Fwww.googleapis.com%2Fauth%2Fdrive.photos.readonly%20https%3A%2F%2Fwww.googleapis.com%2Fauth%2Fpeopleapi.readonly&response_type=code\n",
            "\n",
            "Enter your authorization code:\n",
            "··········\n"
          ],
          "name": "stdout"
        },
        {
          "output_type": "error",
          "ename": "ValueError",
          "evalue": "ignored",
          "traceback": [
            "\u001b[0;31m---------------------------------------------------------------------------\u001b[0m",
            "\u001b[0;31mValueError\u001b[0m                                Traceback (most recent call last)",
            "\u001b[0;32m<ipython-input-2-5e18302243d2>\u001b[0m in \u001b[0;36m<module>\u001b[0;34m()\u001b[0m\n\u001b[1;32m      2\u001b[0m \u001b[0;34m\u001b[0m\u001b[0m\n\u001b[1;32m      3\u001b[0m \u001b[0;31m# This will prompt for authorization.\u001b[0m\u001b[0;34m\u001b[0m\u001b[0;34m\u001b[0m\u001b[0;34m\u001b[0m\u001b[0m\n\u001b[0;32m----> 4\u001b[0;31m \u001b[0mdrive\u001b[0m\u001b[0;34m.\u001b[0m\u001b[0mmount\u001b[0m\u001b[0;34m(\u001b[0m\u001b[0;34m'/gdrive'\u001b[0m\u001b[0;34m)\u001b[0m\u001b[0;34m\u001b[0m\u001b[0;34m\u001b[0m\u001b[0m\n\u001b[0m\u001b[1;32m      5\u001b[0m \u001b[0;31m# Create a directory and mount Google Drive using that directory.\u001b[0m\u001b[0;34m\u001b[0m\u001b[0;34m\u001b[0m\u001b[0;34m\u001b[0m\u001b[0m\n\u001b[1;32m      6\u001b[0m \u001b[0;34m\u001b[0m\u001b[0m\n",
            "\u001b[0;32m/usr/local/lib/python3.6/dist-packages/google/colab/drive.py\u001b[0m in \u001b[0;36mmount\u001b[0;34m(mountpoint, force_remount, timeout_ms)\u001b[0m\n\u001b[1;32m    218\u001b[0m             \u001b[0;34m': timeout during initial read of root folder; for more info: '\u001b[0m\u001b[0;34m\u001b[0m\u001b[0;34m\u001b[0m\u001b[0m\n\u001b[1;32m    219\u001b[0m             'https://research.google.com/colaboratory/faq.html#drive-timeout')\n\u001b[0;32m--> 220\u001b[0;31m       \u001b[0;32mraise\u001b[0m \u001b[0mValueError\u001b[0m\u001b[0;34m(\u001b[0m\u001b[0;34m'mount failed'\u001b[0m \u001b[0;34m+\u001b[0m \u001b[0mextra_reason\u001b[0m\u001b[0;34m)\u001b[0m\u001b[0;34m\u001b[0m\u001b[0;34m\u001b[0m\u001b[0m\n\u001b[0m\u001b[1;32m    221\u001b[0m     \u001b[0;32melif\u001b[0m \u001b[0mcase\u001b[0m \u001b[0;34m==\u001b[0m \u001b[0;36m2\u001b[0m\u001b[0;34m:\u001b[0m\u001b[0;34m\u001b[0m\u001b[0;34m\u001b[0m\u001b[0m\n\u001b[1;32m    222\u001b[0m       \u001b[0;31m# Not already authorized, so do the authorization dance.\u001b[0m\u001b[0;34m\u001b[0m\u001b[0;34m\u001b[0m\u001b[0;34m\u001b[0m\u001b[0m\n",
            "\u001b[0;31mValueError\u001b[0m: mount failed"
          ]
        }
      ]
    },
    {
      "cell_type": "markdown",
      "metadata": {
        "id": "Gv3f_-svjwm6",
        "colab_type": "text"
      },
      "source": [
        "# Drive not connecting after it seemed like it worked before?\n",
        "1. First try restarting the runtime via Runtime -> Restart Runtime\n",
        "2. Then try to run the above again.\n",
        "3. If this still doesn't work, call Reset All Runtimes. This is the nuclear option that will delete all your data not saved on your personal drive account, and will erase everything you installed.\n"
      ]
    },
    {
      "cell_type": "code",
      "metadata": {
        "id": "oINm7sOOdpaL",
        "colab_type": "code",
        "colab": {
          "base_uri": "https://localhost:8080/",
          "height": 50
        },
        "outputId": "c7603ce5-004d-4d4a-db64-ac2cc1e96185"
      },
      "source": [
        "import torch\n",
        "print('Version', torch.__version__)\n",
        "print('CUDA enabled:', torch.cuda.is_available())\n",
        "  \n",
        "# Running this should then print out:\n",
        "# Version 1.1.0\n",
        "# CUDA enabled: True"
      ],
      "execution_count": 3,
      "outputs": [
        {
          "output_type": "stream",
          "text": [
            "Version 1.2.0\n",
            "CUDA enabled: True\n"
          ],
          "name": "stdout"
        }
      ]
    },
    {
      "cell_type": "code",
      "metadata": {
        "id": "lrYXOGpsM6TV",
        "colab_type": "code",
        "colab": {}
      },
      "source": [
        "# Define some useful save and restoring functions. \n",
        "# You can thank your TAs for providing this code, \n",
        "# it will probably be useful for you in the future as well.\n",
        "import torch\n",
        "import torch.nn as nn\n",
        "import numpy as np\n",
        "import os\n",
        "import glob\n",
        "import re\n",
        "import matplotlib.pyplot as plt\n",
        "import matplotlib.image as mpimg\n",
        "%matplotlib inline\n",
        "\n",
        "class pt_util(object):\n",
        "    # This does more than the simple Pytorch restore. It checks that the names \n",
        "    # of variables match, and if they don't doesn't throw a fit. It is similar \n",
        "    # to how Caffe acts. This is especially useful if you decide to change your\n",
        "    # network architecture but don't want to retrain from scratch.\n",
        "    @staticmethod\n",
        "    def restore(net, save_file):\n",
        "        net_state_dict = net.state_dict()\n",
        "        restore_state_dict = torch.load(save_file)\n",
        "\n",
        "        restored_var_names = set()\n",
        "\n",
        "        print('Restoring:')\n",
        "        for var_name in restore_state_dict.keys():\n",
        "            if var_name in net_state_dict:\n",
        "                var_size = net_state_dict[var_name].size()\n",
        "                restore_size = restore_state_dict[var_name].size()\n",
        "                if var_size != restore_size:\n",
        "                    print('Shape mismatch for var', var_name, 'expected', var_size, 'got', restore_size)\n",
        "                else:\n",
        "                    if isinstance(net_state_dict[var_name], torch.nn.Parameter):\n",
        "                        # backwards compatibility for serialized parameters\n",
        "                        net_state_dict[var_name] = restore_state_dict[var_name].data\n",
        "                    try:\n",
        "                        net_state_dict[var_name].copy_(restore_state_dict[var_name])\n",
        "                        print(str(var_name) + ' -> \\t' + str(var_size) + ' = ' + str(int(np.prod(var_size) * 4 / 10**6)) + 'MB')\n",
        "                        restored_var_names.add(var_name)\n",
        "                    except:\n",
        "                        print('While copying the parameter named {}, whose dimensions in the model are'\n",
        "                              ' {} and whose dimensions in the checkpoint are {}, ...'.format(\n",
        "                                  var_name, var_size, restore_size))\n",
        "                        raise\n",
        "\n",
        "        ignored_var_names = sorted(list(set(restore_state_dict.keys()) - restored_var_names))\n",
        "        unset_var_names = sorted(list(set(net_state_dict.keys()) - restored_var_names))\n",
        "        print('')\n",
        "        if len(ignored_var_names) == 0:\n",
        "            print('Restored all variables')\n",
        "        else:\n",
        "            print('Did not restore:\\n\\t' + '\\n\\t'.join(ignored_var_names))\n",
        "        if len(unset_var_names) == 0:\n",
        "            print('No new variables')\n",
        "        else:\n",
        "            print('Initialized but did not modify:\\n\\t' + '\\n\\t'.join(unset_var_names))\n",
        "\n",
        "        print('Restored %s' % save_file)\n",
        "        \n",
        "    # Restores the last saved network in a folder using file write time.\n",
        "    @staticmethod\n",
        "    def restore_latest(net, folder):\n",
        "        checkpoints = sorted(glob.glob(folder + '/*.pt'), key=os.path.getmtime)\n",
        "        start_it = 0\n",
        "        if len(checkpoints) > 0:\n",
        "            pt_util.restore(net, checkpoints[-1])\n",
        "            start_it = int(re.findall(r'\\d+', checkpoints[-1])[-1])\n",
        "        return start_it\n",
        "\n",
        "    # Saves the network and optionally deletes old save files. \n",
        "    # If num_to_keep is 0, it won't remove any.\n",
        "    @staticmethod\n",
        "    def save(net, file_name, num_to_keep=1):\n",
        "        folder = os.path.dirname(file_name)\n",
        "        if not os.path.exists(folder):\n",
        "            os.makedirs(folder)\n",
        "        torch.save(net.state_dict(), file_name)\n",
        "        extension = os.path.splitext(file_name)[1]\n",
        "        checkpoints = sorted(glob.glob(folder + '/*' + extension), key=os.path.getmtime)\n",
        "        print('Saved %s\\n' % file_name)\n",
        "        if num_to_keep > 0:\n",
        "            for ff in checkpoints[:-num_to_keep]:\n",
        "                os.remove(ff)\n",
        "                \n",
        "    # Shows some tiled images.\n",
        "    @staticmethod\n",
        "    def show_images(images, titles=None, columns=5, max_rows=5):\n",
        "        images = images[:min(len(images), max_rows * columns)]\n",
        "\n",
        "        plt.figure(figsize=(20, 10))\n",
        "        for ii, image in enumerate(images):\n",
        "            plt.subplot(len(images) / columns + 1, columns, ii + 1)\n",
        "            plt.axis('off')\n",
        "            if titles is not None and ii < len(titles):\n",
        "                plt.title(str(titles[ii]))\n",
        "            plt.imshow(image)\n",
        "        plt.show()\n",
        "\n",
        "    @staticmethod\n",
        "    def to_numpy(array):\n",
        "        if isinstance(array, torch.Tensor):\n",
        "            return array.detach().cpu().numpy()\n",
        "        elif isinstance(array, dict):\n",
        "            return {key: pt_util.to_numpy(val) for key, val in array.items()}\n",
        "        else:\n",
        "            return np.asarray(array)\n",
        "\n",
        "    @staticmethod\n",
        "    def from_numpy(np_array):\n",
        "        if isinstance(np_array, list):\n",
        "            try:\n",
        "                np_array = np.stack(np_array, 0)\n",
        "            except ValueError:\n",
        "                np_array = np.stack([from_numpy(val) for val in np_array], 0)\n",
        "        elif isinstance(np_array, dict):\n",
        "            return {key: from_numpy(val) for key, val in np_array.items()}\n",
        "        np_array = np.asarray(np_array)\n",
        "        if np_array.dtype == np.uint32:\n",
        "            print(\"numpy -> torch dtype uint32 not supported, using int32\")\n",
        "            np_array = np_array.astype(np.int32)\n",
        "        elif np_array.dtype == np.dtype(\"O\"):\n",
        "            print(\"numpy -> torch dtype Object not supported, returning numpy array\")\n",
        "            return np_array\n",
        "        elif np_array.dtype.type == np.str_:\n",
        "            print(\"numpy -> torch dtype numpy.str_ not supported, returning numpy array\")\n",
        "            return np_array\n",
        "        return torch.from_numpy(np_array)\n"
      ],
      "execution_count": 0,
      "outputs": []
    },
    {
      "cell_type": "markdown",
      "metadata": {
        "id": "u486U-pUJnDY",
        "colab_type": "text"
      },
      "source": [
        "# Part 1: Implementing a network for MNIST\n",
        "# 1.1\n",
        "We would like you to implement a simple network for MNIST. \n",
        "\n",
        "MNIST data is 28x28, so the first thing you will need to do is reshape the data to be one long vector.\n",
        "\n",
        "Your basic network layers will go in the `__init__` function, and the forward call will pass the data through.\n",
        "\n",
        "For some sample code, look at https://github.com/pytorch/examples/blob/master/mnist/main.py\n",
        "\n",
        "Additionally, fill in the loss function for the network.\n",
        "\n",
        "# 1.2\n",
        "Call the forward and backward passes (again, see https://github.com/pytorch/examples/blob/master/mnist/main.py) in the train and test functions.\n",
        "\n",
        "# Helpful functions\n",
        "- https://pytorch.org/docs/stable/tensors.html\n",
        "- https://pytorch.org/docs/stable/nn.html\n",
        "- You can call `pt_util.to_numpy(x)` to get a numpy array from a torch tensor x.\n",
        "- `pt_util.from_numpy(x)` makes a torch Tensor from the numpy array x.\n",
        "\n",
        "# Common Oopsies\n",
        "- __Q__ It only runs for one iteration and says it's done: __A__ We provided code that automatically loads the most recent file. If you don't want to start from that checkpoint, simply find it in your google drive and delete it.\n",
        "- __Q__ I want to save more than just the last checkpoint: __A__ You can change the save function to save any number of previous checkpoints. You can also tell it to save all of them (not delete anything), by passing in 0.\n",
        "- __Q__ Pytorch is saying things are the wrong shape: __A__ You can easily reshape things using the `view` function (https://pytorch.org/docs/stable/tensors.html#torch.Tensor.view). It is like the Numpy `reshape` function.\n",
        "- __Q__ Pytorch is saying things are on the wrong device: __A__ You can move data between devices with the `.to(device)` call. Generally, all arguments to a function will need to be on the same device."
      ]
    },
    {
      "cell_type": "code",
      "metadata": {
        "id": "0oKKR9EsoK9G",
        "colab_type": "code",
        "colab": {}
      },
      "source": [
        "# This is where you define your network architecture.\n",
        "# Note: The TAs know this follows the PyTorch MNIST tutorial available at \n",
        "# https://github.com/pytorch/examples/blob/master/mnist/main.py\n",
        "# Where do you think we got it from? \n",
        "# So we are asking you to implement something slightly different. \n",
        "# You can use that as a guide, but make sure you understand what it all does.\n",
        "\n",
        "import tqdm\n",
        "import torch.nn.functional as F\n",
        "import torch.optim as optim\n",
        "from torchvision import datasets, transforms\n",
        "class MNISTNet(nn.Module):\n",
        "    def __init__(self):\n",
        "        # modify me\n",
        "        super(MNISTNet, self).__init__()\n",
        "        # The network should be as follows:\n",
        "        # One fully connected layer with 1024 outputs.\n",
        "        # One fully connected layer with 512 outputs.\n",
        "        # Then the final classification layer.\n",
        "        # All the nonlinearities should be ReLU.\n",
        "        #raise NotImplementedError('Define the layers here')\n",
        "        self.fc1 = nn.Linear(784, 1024)\n",
        "        self.fc2 = nn.Linear(1024, 512)\n",
        "        self.fc3 = nn.Linear(512, 10)\n",
        "\n",
        "    def forward(self, x):\n",
        "        # modify me\n",
        "        #raise NotImplementedError('Define the forward pass')\n",
        "        x_ = x.view(-1,784)\n",
        "        x_ = F.relu(self.fc1(x_))\n",
        "        x_ = F.relu(self.fc2(x_))\n",
        "        x_ = self.fc3(x_)\n",
        "        return x_\n",
        "      \n",
        "    def save_model(self, file_path, num_to_keep=1):\n",
        "        pt_util.save(self, file_path, num_to_keep)\n",
        "        \n",
        "    # prediction and label should be PyTorch Tensors.\n",
        "    # You should return the result from the Cross Entropy function.\n",
        "    # You should also use the cross_entropy loss rather than the NLL loss.\n",
        "    def loss(self, prediction, label, reduction='mean'):\n",
        "        # modify me\n",
        "        #raise NotImplementedError('Define the loss here')\n",
        "        loss = F.cross_entropy(prediction, label, reduction = reduction)\n",
        "        return loss\n",
        "        \n",
        "    def load_model(self, file_path):\n",
        "        pt_util.restore(self, file_path)\n",
        "\n",
        "    def load_last_model(self, dir_path):\n",
        "        return pt_util.restore_latest(self, dir_path)\n",
        "\n",
        "def train_step(model, data, label, optimizer):\n",
        "    # modify me\n",
        "    #raise NotImplementedError('Call the forward pass, loss, and backward here.')\n",
        "    out = model.forward(data)\n",
        "    loss = model.loss(out, label)\n",
        "    loss.backward()\n",
        "    optimizer.step()\n",
        "    return loss\n",
        "\n",
        "def train(model, device, train_loader, optimizer, epoch, log_interval):\n",
        "    model.train()\n",
        "    for batch_idx, (data, label) in enumerate(tqdm.tqdm(train_loader)):\n",
        "        data, label = data.to(device), label.to(device)\n",
        "        optimizer.zero_grad()\n",
        "        loss = train_step(model, data, label, optimizer)        \n",
        "        optimizer.step()\n",
        "        if batch_idx % log_interval == 0:\n",
        "            print('Train Epoch: {} [{}/{} ({:.0f}%)]\\tLoss: {:.6f}'.format(\n",
        "                epoch, batch_idx * len(data), len(train_loader.dataset),\n",
        "                100. * batch_idx / len(train_loader), loss.item()))\n",
        "\n",
        "\n",
        "def test_step(model, data, label):\n",
        "    # modify me\n",
        "    #raise NotImplementedError('Call the forward pass, loss, and get the predictions from the network. No need to call backward. The test loss will be averaged over the whole epoch, so do not average it here.')\n",
        "    out = model.forward(data)\n",
        "    test_loss = model.loss(out, label)\n",
        "    pred = torch.argmax(out, dim=1)\n",
        "    return test_loss, pred\n",
        "\n",
        "def test(model, device, test_loader):\n",
        "    model.eval()\n",
        "    test_loss = 0\n",
        "    correct = 0\n",
        "\n",
        "    correct_images = []\n",
        "    correct_values = []\n",
        "\n",
        "    error_images = []\n",
        "    predicted_values = []\n",
        "    gt_values = []\n",
        "    with torch.no_grad():\n",
        "        for data, label in tqdm.tqdm(test_loader):\n",
        "            data, label = data.to(device), label.to(device)\n",
        "            test_loss_on, pred = test_step(model, data, label)\n",
        "            test_loss += test_loss_on    \n",
        "            correct_mask = pred.eq(label.view_as(pred))\n",
        "            num_correct = correct_mask.sum().item()\n",
        "            correct += num_correct\n",
        "            if num_correct > 0:\n",
        "                correct_images.append(pt_util.to_numpy(data[correct_mask, ...]))\n",
        "                correct_value_data = pt_util.to_numpy(label[correct_mask])\n",
        "                correct_values.append(correct_value_data)\n",
        "            if num_correct < len(label):\n",
        "                error_data = pt_util.to_numpy(data[~correct_mask, ...])\n",
        "                error_images.append(error_data)\n",
        "                predicted_value_data = pt_util.to_numpy(pred[~correct_mask])\n",
        "                predicted_values.append(predicted_value_data)\n",
        "                gt_value_data = pt_util.to_numpy(label[~correct_mask])\n",
        "                gt_values.append(gt_value_data)\n",
        "    correct_images = np.concatenate(correct_images, axis=0)[:, 0, :, :]\n",
        "    error_images = np.concatenate(error_images, axis=0)[:, 0, :, :]\n",
        "    predicted_values = np.concatenate(predicted_values, axis=0)\n",
        "    correct_values = np.concatenate(correct_values, axis=0)\n",
        "    gt_values = np.concatenate(gt_values, axis=0)\n",
        "\n",
        "    test_loss /= len(test_loader.dataset)\n",
        "    test_accuracy = 100. * correct / len(test_loader.dataset)\n",
        "\n",
        "    print('\\nTest set: Average loss: {:.4f}, Accuracy: {}/{} ({:.0f}%)\\n'.format(\n",
        "        test_loss, correct, len(test_loader.dataset),\n",
        "        100. * correct / len(test_loader.dataset)))\n",
        "    return test_loss, test_accuracy, correct_images, correct_values, error_images, predicted_values, gt_values"
      ],
      "execution_count": 0,
      "outputs": []
    },
    {
      "cell_type": "code",
      "metadata": {
        "id": "pNf3AoHVvKXI",
        "colab_type": "code",
        "colab": {}
      },
      "source": [
        "# Play around with these constants, you may find a better setting.\n",
        "def get_constants():\n",
        "    # modify me (if you want)\n",
        "    BATCH_SIZE = 256\n",
        "    TEST_BATCH_SIZE = 1000\n",
        "    EPOCHS = 10\n",
        "    LEARNING_RATE = 0.01\n",
        "    MOMENTUM = 0.9\n",
        "\n",
        "    return {'BATCH_SIZE': BATCH_SIZE,\n",
        "            'TEST_BATCH_SIZE': TEST_BATCH_SIZE,\n",
        "            'EPOCHS': EPOCHS,\n",
        "            'LEARNING_RATE': LEARNING_RATE,\n",
        "            'MOMENTUM': MOMENTUM,\n",
        "            }"
      ],
      "execution_count": 0,
      "outputs": []
    },
    {
      "cell_type": "code",
      "metadata": {
        "id": "50zDbqjXu_Qq",
        "colab_type": "code",
        "colab": {}
      },
      "source": [
        "# Now the actual training code\n",
        "import multiprocessing\n",
        "import traceback\n",
        "\n",
        "def main():\n",
        "    constants = get_constants()\n",
        "    BATCH_SIZE = constants['BATCH_SIZE']\n",
        "    TEST_BATCH_SIZE = constants['TEST_BATCH_SIZE']\n",
        "    EPOCHS = constants['EPOCHS']\n",
        "    LEARNING_RATE = constants['LEARNING_RATE']\n",
        "    MOMENTUM = constants['MOMENTUM']\n",
        "\n",
        "    SEED = 0\n",
        "    LOG_INTERVAL = 100\n",
        "    USE_CUDA = True\n",
        "\n",
        "    use_cuda = USE_CUDA and torch.cuda.is_available()\n",
        "\n",
        "    torch.manual_seed(SEED)\n",
        "\n",
        "    device = torch.device(\"cuda\" if use_cuda else \"cpu\")\n",
        "    print('Using device', device)\n",
        "    print('num cpus:', multiprocessing.cpu_count())\n",
        "\n",
        "    kwargs = {'num_workers': multiprocessing.cpu_count(),\n",
        "            'pin_memory': True} if use_cuda else {}\n",
        "    train_loader = torch.utils.data.DataLoader(\n",
        "        datasets.MNIST('../data', train=True, download=True,\n",
        "                    transform=transforms.Compose([\n",
        "                        transforms.ToTensor(),\n",
        "                        transforms.Normalize((0.1307,), (0.3081,))\n",
        "                    ])),\n",
        "        batch_size=BATCH_SIZE, shuffle=True, **kwargs)\n",
        "    test_loader = torch.utils.data.DataLoader(\n",
        "        datasets.MNIST('../data', train=False, transform=transforms.Compose([\n",
        "                        transforms.ToTensor(),\n",
        "                        transforms.Normalize((0.1307,), (0.3081,))\n",
        "                    ])),\n",
        "        batch_size=TEST_BATCH_SIZE, **kwargs)\n",
        "\n",
        "\n",
        "    model = MNISTNet().to(device)\n",
        "    optimizer = optim.SGD(model.parameters(), lr=LEARNING_RATE, momentum=MOMENTUM)\n",
        "    # This will save checkpoints in your Google Drive account.\n",
        "    start_epoch = model.load_last_model('/gdrive/My Drive/colab_files/homework1/mnist/checkpoints')\n",
        "    test_loss, test_accuracy, correct_images, correct_val, error_images, predicted_val, gt_val = test(model, device, test_loader)\n",
        "    pt_util.show_images(correct_images, ['correct: %s' % aa for aa in correct_val])\n",
        "    pt_util.show_images(error_images, ['pred: %s, actual: %s' % (aa, bb) for aa, bb in zip(predicted_val, gt_val)])\n",
        "    try:\n",
        "        for epoch in range(start_epoch, EPOCHS + 1):\n",
        "            train(model, device, train_loader, optimizer, epoch, LOG_INTERVAL)\n",
        "            test(model, device, test_loader)\n",
        "            model.save_model('/gdrive/My Drive/colab_files/homework1/mnist/checkpoints/%03d.pt' % epoch)\n",
        "    except KeyboardInterrupt as ke:\n",
        "        print('Interrupted')\n",
        "    except:\n",
        "        traceback.print_exc()\n",
        "    finally:\n",
        "        model.save_model('/gdrive/My Drive/colab_files/homework1/mnist/checkpoints/%03d.pt' % epoch)\n",
        "        pt_util.show_images(correct_images, ['correct: %s' % aa for aa in correct_val])\n",
        "        pt_util.show_images(error_images, ['pred: %s, actual: %s' % (aa, bb) for aa, bb in zip(predicted_val, gt_val)])\n",
        "        "
      ],
      "execution_count": 0,
      "outputs": []
    },
    {
      "cell_type": "code",
      "metadata": {
        "id": "MvJx-sBwOHV5",
        "colab_type": "code",
        "colab": {
          "base_uri": "https://localhost:8080/",
          "height": 1000
        },
        "outputId": "450e4e7a-abbe-4d37-e72d-e0a0c49a441f"
      },
      "source": [
        "main()"
      ],
      "execution_count": 36,
      "outputs": [
        {
          "output_type": "stream",
          "text": [
            "\r  0%|          | 0/10 [00:00<?, ?it/s]"
          ],
          "name": "stderr"
        },
        {
          "output_type": "stream",
          "text": [
            "Using device cuda\n",
            "num cpus: 2\n",
            "Restoring:\n",
            "fc1.weight -> \ttorch.Size([1024, 784]) = 3MB\n",
            "fc1.bias -> \ttorch.Size([1024]) = 0MB\n",
            "fc2.weight -> \ttorch.Size([512, 1024]) = 2MB\n",
            "fc2.bias -> \ttorch.Size([512]) = 0MB\n",
            "fc3.weight -> \ttorch.Size([10, 512]) = 0MB\n",
            "fc3.bias -> \ttorch.Size([10]) = 0MB\n",
            "\n",
            "Restored all variables\n",
            "No new variables\n",
            "Restored /gdrive/My Drive/colab_files/homework1/mnist/checkpoints/000.pt\n"
          ],
          "name": "stdout"
        },
        {
          "output_type": "stream",
          "text": [
            "100%|██████████| 10/10 [00:01<00:00,  6.56it/s]\n"
          ],
          "name": "stderr"
        },
        {
          "output_type": "stream",
          "text": [
            "\n",
            "Test set: Average loss: 0.0002, Accuracy: 9380/10000 (94%)\n",
            "\n"
          ],
          "name": "stdout"
        },
        {
          "output_type": "display_data",
          "data": {
            "image/png": "[encoded data removed]",
            "text/plain": [
              "<Figure size 1440x720 with 25 Axes>"
            ]
          },
          "metadata": {
            "tags": []
          }
        },
        {
          "output_type": "display_data",
          "data": {
            "image/png": "[encoded data removed]",
            "text/plain": [
              "<Figure size 1440x720 with 25 Axes>"
            ]
          },
          "metadata": {
            "tags": []
          }
        },
        {
          "output_type": "stream",
          "text": [
            "  2%|▏         | 5/235 [00:00<00:30,  7.48it/s]"
          ],
          "name": "stderr"
        },
        {
          "output_type": "stream",
          "text": [
            "Train Epoch: 0 [0/60000 (0%)]\tLoss: 0.207333\n"
          ],
          "name": "stdout"
        },
        {
          "output_type": "stream",
          "text": [
            " 45%|████▍     | 105/235 [00:04<00:04, 26.62it/s]"
          ],
          "name": "stderr"
        },
        {
          "output_type": "stream",
          "text": [
            "Train Epoch: 0 [25600/60000 (43%)]\tLoss: 0.115948\n"
          ],
          "name": "stdout"
        },
        {
          "output_type": "stream",
          "text": [
            " 86%|████████▌ | 202/235 [00:07<00:01, 26.50it/s]"
          ],
          "name": "stderr"
        },
        {
          "output_type": "stream",
          "text": [
            "Train Epoch: 0 [51200/60000 (85%)]\tLoss: 0.152501\n"
          ],
          "name": "stdout"
        },
        {
          "output_type": "stream",
          "text": [
            "100%|██████████| 235/235 [00:09<00:00, 25.61it/s]\n",
            "100%|██████████| 10/10 [00:01<00:00,  6.53it/s]\n",
            "  0%|          | 0/235 [00:00<?, ?it/s]"
          ],
          "name": "stderr"
        },
        {
          "output_type": "stream",
          "text": [
            "\n",
            "Test set: Average loss: 0.0001, Accuracy: 9642/10000 (96%)\n",
            "\n",
            "Saved /gdrive/My Drive/colab_files/homework1/mnist/checkpoints/000.pt\n",
            "\n"
          ],
          "name": "stdout"
        },
        {
          "output_type": "stream",
          "text": [
            "  2%|▏         | 5/235 [00:00<00:32,  7.18it/s]"
          ],
          "name": "stderr"
        },
        {
          "output_type": "stream",
          "text": [
            "Train Epoch: 1 [0/60000 (0%)]\tLoss: 0.117117\n"
          ],
          "name": "stdout"
        },
        {
          "output_type": "stream",
          "text": [
            " 44%|████▍     | 103/235 [00:04<00:05, 26.12it/s]"
          ],
          "name": "stderr"
        },
        {
          "output_type": "stream",
          "text": [
            "Train Epoch: 1 [25600/60000 (43%)]\tLoss: 0.083432\n"
          ],
          "name": "stdout"
        },
        {
          "output_type": "stream",
          "text": [
            " 86%|████████▌ | 202/235 [00:07<00:01, 25.76it/s]"
          ],
          "name": "stderr"
        },
        {
          "output_type": "stream",
          "text": [
            "Train Epoch: 1 [51200/60000 (85%)]\tLoss: 0.064919\n"
          ],
          "name": "stdout"
        },
        {
          "output_type": "stream",
          "text": [
            "100%|██████████| 235/235 [00:09<00:00, 25.55it/s]\n",
            "100%|██████████| 10/10 [00:01<00:00,  6.59it/s]\n",
            "  0%|          | 0/235 [00:00<?, ?it/s]"
          ],
          "name": "stderr"
        },
        {
          "output_type": "stream",
          "text": [
            "\n",
            "Test set: Average loss: 0.0001, Accuracy: 9734/10000 (97%)\n",
            "\n",
            "Saved /gdrive/My Drive/colab_files/homework1/mnist/checkpoints/001.pt\n",
            "\n"
          ],
          "name": "stdout"
        },
        {
          "output_type": "stream",
          "text": [
            "\r  0%|          | 1/235 [00:00<00:43,  5.35it/s]"
          ],
          "name": "stderr"
        },
        {
          "output_type": "stream",
          "text": [
            "Train Epoch: 2 [0/60000 (0%)]\tLoss: 0.068047\n"
          ],
          "name": "stdout"
        },
        {
          "output_type": "stream",
          "text": [
            " 44%|████▍     | 104/235 [00:04<00:05, 22.09it/s]"
          ],
          "name": "stderr"
        },
        {
          "output_type": "stream",
          "text": [
            "Train Epoch: 2 [25600/60000 (43%)]\tLoss: 0.041386\n"
          ],
          "name": "stdout"
        },
        {
          "output_type": "stream",
          "text": [
            " 87%|████████▋ | 204/235 [00:08<00:01, 26.65it/s]"
          ],
          "name": "stderr"
        },
        {
          "output_type": "stream",
          "text": [
            "Train Epoch: 2 [51200/60000 (85%)]\tLoss: 0.106497\n"
          ],
          "name": "stdout"
        },
        {
          "output_type": "stream",
          "text": [
            "100%|██████████| 235/235 [00:09<00:00, 25.34it/s]\n",
            "100%|██████████| 10/10 [00:01<00:00,  6.66it/s]\n",
            "  0%|          | 0/235 [00:00<?, ?it/s]"
          ],
          "name": "stderr"
        },
        {
          "output_type": "stream",
          "text": [
            "\n",
            "Test set: Average loss: 0.0001, Accuracy: 9755/10000 (98%)\n",
            "\n",
            "Saved /gdrive/My Drive/colab_files/homework1/mnist/checkpoints/002.pt\n",
            "\n"
          ],
          "name": "stdout"
        },
        {
          "output_type": "stream",
          "text": [
            "  2%|▏         | 5/235 [00:00<00:32,  6.99it/s]"
          ],
          "name": "stderr"
        },
        {
          "output_type": "stream",
          "text": [
            "Train Epoch: 3 [0/60000 (0%)]\tLoss: 0.033224\n"
          ],
          "name": "stdout"
        },
        {
          "output_type": "stream",
          "text": [
            " 43%|████▎     | 102/235 [00:04<00:05, 25.29it/s]"
          ],
          "name": "stderr"
        },
        {
          "output_type": "stream",
          "text": [
            "Train Epoch: 3 [25600/60000 (43%)]\tLoss: 0.040745\n"
          ],
          "name": "stdout"
        },
        {
          "output_type": "stream",
          "text": [
            " 86%|████████▌ | 202/235 [00:08<00:01, 24.62it/s]"
          ],
          "name": "stderr"
        },
        {
          "output_type": "stream",
          "text": [
            "Train Epoch: 3 [51200/60000 (85%)]\tLoss: 0.071233\n"
          ],
          "name": "stdout"
        },
        {
          "output_type": "stream",
          "text": [
            "100%|██████████| 235/235 [00:09<00:00, 25.25it/s]\n",
            "100%|██████████| 10/10 [00:01<00:00,  6.54it/s]\n",
            "  0%|          | 0/235 [00:00<?, ?it/s]"
          ],
          "name": "stderr"
        },
        {
          "output_type": "stream",
          "text": [
            "\n",
            "Test set: Average loss: 0.0001, Accuracy: 9771/10000 (98%)\n",
            "\n",
            "Saved /gdrive/My Drive/colab_files/homework1/mnist/checkpoints/003.pt\n",
            "\n"
          ],
          "name": "stdout"
        },
        {
          "output_type": "stream",
          "text": [
            "  2%|▏         | 5/235 [00:00<00:37,  6.18it/s]"
          ],
          "name": "stderr"
        },
        {
          "output_type": "stream",
          "text": [
            "Train Epoch: 4 [0/60000 (0%)]\tLoss: 0.014846\n"
          ],
          "name": "stdout"
        },
        {
          "output_type": "stream",
          "text": [
            " 44%|████▍     | 103/235 [00:04<00:05, 26.21it/s]"
          ],
          "name": "stderr"
        },
        {
          "output_type": "stream",
          "text": [
            "Train Epoch: 4 [25600/60000 (43%)]\tLoss: 0.016240\n"
          ],
          "name": "stdout"
        },
        {
          "output_type": "stream",
          "text": [
            " 87%|████████▋ | 204/235 [00:08<00:01, 25.60it/s]"
          ],
          "name": "stderr"
        },
        {
          "output_type": "stream",
          "text": [
            "Train Epoch: 4 [51200/60000 (85%)]\tLoss: 0.043712\n"
          ],
          "name": "stdout"
        },
        {
          "output_type": "stream",
          "text": [
            "100%|██████████| 235/235 [00:09<00:00, 25.31it/s]\n",
            "100%|██████████| 10/10 [00:01<00:00,  6.61it/s]\n",
            "  0%|          | 0/235 [00:00<?, ?it/s]"
          ],
          "name": "stderr"
        },
        {
          "output_type": "stream",
          "text": [
            "\n",
            "Test set: Average loss: 0.0001, Accuracy: 9794/10000 (98%)\n",
            "\n",
            "Saved /gdrive/My Drive/colab_files/homework1/mnist/checkpoints/004.pt\n",
            "\n"
          ],
          "name": "stdout"
        },
        {
          "output_type": "stream",
          "text": [
            "\r  0%|          | 1/235 [00:00<00:37,  6.29it/s]"
          ],
          "name": "stderr"
        },
        {
          "output_type": "stream",
          "text": [
            "Train Epoch: 5 [0/60000 (0%)]\tLoss: 0.031900\n"
          ],
          "name": "stdout"
        },
        {
          "output_type": "stream",
          "text": [
            " 44%|████▍     | 103/235 [00:04<00:05, 25.58it/s]"
          ],
          "name": "stderr"
        },
        {
          "output_type": "stream",
          "text": [
            "Train Epoch: 5 [25600/60000 (43%)]\tLoss: 0.010983\n"
          ],
          "name": "stdout"
        },
        {
          "output_type": "stream",
          "text": [
            " 87%|████████▋ | 205/235 [00:08<00:01, 25.22it/s]"
          ],
          "name": "stderr"
        },
        {
          "output_type": "stream",
          "text": [
            "Train Epoch: 5 [51200/60000 (85%)]\tLoss: 0.020425\n"
          ],
          "name": "stdout"
        },
        {
          "output_type": "stream",
          "text": [
            "100%|██████████| 235/235 [00:09<00:00, 25.61it/s]\n",
            "100%|██████████| 10/10 [00:01<00:00,  6.84it/s]\n",
            "  0%|          | 0/235 [00:00<?, ?it/s]"
          ],
          "name": "stderr"
        },
        {
          "output_type": "stream",
          "text": [
            "\n",
            "Test set: Average loss: 0.0001, Accuracy: 9802/10000 (98%)\n",
            "\n",
            "Saved /gdrive/My Drive/colab_files/homework1/mnist/checkpoints/005.pt\n",
            "\n"
          ],
          "name": "stdout"
        },
        {
          "output_type": "stream",
          "text": [
            "\r  0%|          | 1/235 [00:00<00:43,  5.40it/s]"
          ],
          "name": "stderr"
        },
        {
          "output_type": "stream",
          "text": [
            "Train Epoch: 6 [0/60000 (0%)]\tLoss: 0.017194\n"
          ],
          "name": "stdout"
        },
        {
          "output_type": "stream",
          "text": [
            " 43%|████▎     | 102/235 [00:04<00:05, 25.30it/s]"
          ],
          "name": "stderr"
        },
        {
          "output_type": "stream",
          "text": [
            "Train Epoch: 6 [25600/60000 (43%)]\tLoss: 0.023003\n"
          ],
          "name": "stdout"
        },
        {
          "output_type": "stream",
          "text": [
            " 86%|████████▌ | 202/235 [00:07<00:01, 25.87it/s]"
          ],
          "name": "stderr"
        },
        {
          "output_type": "stream",
          "text": [
            "Train Epoch: 6 [51200/60000 (85%)]\tLoss: 0.019037\n"
          ],
          "name": "stdout"
        },
        {
          "output_type": "stream",
          "text": [
            "100%|██████████| 235/235 [00:09<00:00, 25.53it/s]\n",
            "100%|██████████| 10/10 [00:01<00:00,  6.65it/s]\n",
            "  0%|          | 0/235 [00:00<?, ?it/s]"
          ],
          "name": "stderr"
        },
        {
          "output_type": "stream",
          "text": [
            "\n",
            "Test set: Average loss: 0.0001, Accuracy: 9812/10000 (98%)\n",
            "\n",
            "Saved /gdrive/My Drive/colab_files/homework1/mnist/checkpoints/006.pt\n",
            "\n"
          ],
          "name": "stdout"
        },
        {
          "output_type": "stream",
          "text": [
            "\r  0%|          | 1/235 [00:00<00:41,  5.59it/s]"
          ],
          "name": "stderr"
        },
        {
          "output_type": "stream",
          "text": [
            "Train Epoch: 7 [0/60000 (0%)]\tLoss: 0.006904\n"
          ],
          "name": "stdout"
        },
        {
          "output_type": "stream",
          "text": [
            " 44%|████▍     | 103/235 [00:04<00:05, 25.15it/s]"
          ],
          "name": "stderr"
        },
        {
          "output_type": "stream",
          "text": [
            "Train Epoch: 7 [25600/60000 (43%)]\tLoss: 0.014772\n"
          ],
          "name": "stdout"
        },
        {
          "output_type": "stream",
          "text": [
            " 87%|████████▋ | 205/235 [00:08<00:01, 25.10it/s]"
          ],
          "name": "stderr"
        },
        {
          "output_type": "stream",
          "text": [
            "Train Epoch: 7 [51200/60000 (85%)]\tLoss: 0.014042\n"
          ],
          "name": "stdout"
        },
        {
          "output_type": "stream",
          "text": [
            "100%|██████████| 235/235 [00:09<00:00, 25.22it/s]\n",
            "100%|██████████| 10/10 [00:01<00:00,  6.49it/s]\n",
            "  0%|          | 0/235 [00:00<?, ?it/s]"
          ],
          "name": "stderr"
        },
        {
          "output_type": "stream",
          "text": [
            "\n",
            "Test set: Average loss: 0.0001, Accuracy: 9811/10000 (98%)\n",
            "\n",
            "Saved /gdrive/My Drive/colab_files/homework1/mnist/checkpoints/007.pt\n",
            "\n"
          ],
          "name": "stdout"
        },
        {
          "output_type": "stream",
          "text": [
            "\r  0%|          | 1/235 [00:00<00:41,  5.58it/s]"
          ],
          "name": "stderr"
        },
        {
          "output_type": "stream",
          "text": [
            "Train Epoch: 8 [0/60000 (0%)]\tLoss: 0.011058\n"
          ],
          "name": "stdout"
        },
        {
          "output_type": "stream",
          "text": [
            " 44%|████▍     | 104/235 [00:04<00:04, 26.53it/s]"
          ],
          "name": "stderr"
        },
        {
          "output_type": "stream",
          "text": [
            "Train Epoch: 8 [25600/60000 (43%)]\tLoss: 0.014346\n"
          ],
          "name": "stdout"
        },
        {
          "output_type": "stream",
          "text": [
            " 86%|████████▌ | 202/235 [00:07<00:01, 27.22it/s]"
          ],
          "name": "stderr"
        },
        {
          "output_type": "stream",
          "text": [
            "Train Epoch: 8 [51200/60000 (85%)]\tLoss: 0.013377\n"
          ],
          "name": "stdout"
        },
        {
          "output_type": "stream",
          "text": [
            "100%|██████████| 235/235 [00:09<00:00, 25.83it/s]\n",
            "100%|██████████| 10/10 [00:01<00:00,  6.64it/s]\n",
            "  0%|          | 0/235 [00:00<?, ?it/s]"
          ],
          "name": "stderr"
        },
        {
          "output_type": "stream",
          "text": [
            "\n",
            "Test set: Average loss: 0.0001, Accuracy: 9811/10000 (98%)\n",
            "\n",
            "Saved /gdrive/My Drive/colab_files/homework1/mnist/checkpoints/008.pt\n",
            "\n"
          ],
          "name": "stdout"
        },
        {
          "output_type": "stream",
          "text": [
            "\r  0%|          | 1/235 [00:00<00:39,  5.97it/s]"
          ],
          "name": "stderr"
        },
        {
          "output_type": "stream",
          "text": [
            "Train Epoch: 9 [0/60000 (0%)]\tLoss: 0.006597\n"
          ],
          "name": "stdout"
        },
        {
          "output_type": "stream",
          "text": [
            " 44%|████▍     | 104/235 [00:04<00:05, 24.87it/s]"
          ],
          "name": "stderr"
        },
        {
          "output_type": "stream",
          "text": [
            "Train Epoch: 9 [25600/60000 (43%)]\tLoss: 0.004690\n"
          ],
          "name": "stdout"
        },
        {
          "output_type": "stream",
          "text": [
            " 87%|████████▋ | 205/235 [00:08<00:01, 25.28it/s]"
          ],
          "name": "stderr"
        },
        {
          "output_type": "stream",
          "text": [
            "Train Epoch: 9 [51200/60000 (85%)]\tLoss: 0.008415\n"
          ],
          "name": "stdout"
        },
        {
          "output_type": "stream",
          "text": [
            "100%|██████████| 235/235 [00:09<00:00, 25.46it/s]\n",
            "100%|██████████| 10/10 [00:01<00:00,  6.70it/s]\n",
            "  0%|          | 0/235 [00:00<?, ?it/s]"
          ],
          "name": "stderr"
        },
        {
          "output_type": "stream",
          "text": [
            "\n",
            "Test set: Average loss: 0.0001, Accuracy: 9817/10000 (98%)\n",
            "\n",
            "Saved /gdrive/My Drive/colab_files/homework1/mnist/checkpoints/009.pt\n",
            "\n"
          ],
          "name": "stdout"
        },
        {
          "output_type": "stream",
          "text": [
            "\r  0%|          | 1/235 [00:00<00:39,  5.92it/s]"
          ],
          "name": "stderr"
        },
        {
          "output_type": "stream",
          "text": [
            "Train Epoch: 10 [0/60000 (0%)]\tLoss: 0.007680\n"
          ],
          "name": "stdout"
        },
        {
          "output_type": "stream",
          "text": [
            " 43%|████▎     | 102/235 [00:04<00:05, 26.01it/s]"
          ],
          "name": "stderr"
        },
        {
          "output_type": "stream",
          "text": [
            "Train Epoch: 10 [25600/60000 (43%)]\tLoss: 0.003349\n"
          ],
          "name": "stdout"
        },
        {
          "output_type": "stream",
          "text": [
            " 87%|████████▋ | 204/235 [00:08<00:01, 23.54it/s]"
          ],
          "name": "stderr"
        },
        {
          "output_type": "stream",
          "text": [
            "Train Epoch: 10 [51200/60000 (85%)]\tLoss: 0.007493\n"
          ],
          "name": "stdout"
        },
        {
          "output_type": "stream",
          "text": [
            "100%|██████████| 235/235 [00:09<00:00, 25.53it/s]\n",
            "100%|██████████| 10/10 [00:01<00:00,  6.62it/s]\n"
          ],
          "name": "stderr"
        },
        {
          "output_type": "stream",
          "text": [
            "\n",
            "Test set: Average loss: 0.0001, Accuracy: 9814/10000 (98%)\n",
            "\n",
            "Saved /gdrive/My Drive/colab_files/homework1/mnist/checkpoints/010.pt\n",
            "\n",
            "Saved /gdrive/My Drive/colab_files/homework1/mnist/checkpoints/010.pt\n",
            "\n"
          ],
          "name": "stdout"
        },
        {
          "output_type": "display_data",
          "data": {
            "image/png": "[encoded data removed]",
            "text/plain": [
              "<Figure size 1440x720 with 25 Axes>"
            ]
          },
          "metadata": {
            "tags": []
          }
        },
        {
          "output_type": "display_data",
          "data": {
            "image/png": "[encoded data removed]",
            "text/plain": [
              "<Figure size 1440x720 with 25 Axes>"
            ]
          },
          "metadata": {
            "tags": []
          }
        }
      ]
    },
    {
      "cell_type": "markdown",
      "metadata": {
        "id": "kwAXWXg8jzS4",
        "colab_type": "text"
      },
      "source": [
        "# Download a copy for submission and put it in your repository.\n",
        "File -> download .ipynb"
      ]
    }
  ]
}